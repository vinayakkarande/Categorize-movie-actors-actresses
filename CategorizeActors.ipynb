{
 "cells": [
  {
   "cell_type": "markdown",
   "metadata": {
    "colab_type": "text",
    "id": "Whd4joa1anYo"
   },
   "source": [
    "#Data Science project - Categorize Actors\n",
    "\n",
    "Workflow stages\n",
    "Problem is solved by following below stages\n",
    "\n",
    "1. Repository description\n",
    "2. Problem definition.\n",
    "3. Acquire data - Data Scraping.\n",
    "4. Normalization and One-Hot encoding of feature variables.\n",
    "5. Unsupervised Learning using K-Means and Hierarchical clustering.\n",
    "6. Summary and categorization.\n",
    "7. Further improvements."
   ]
  },
  {
   "cell_type": "markdown",
   "metadata": {
    "colab_type": "text",
    "id": "V7f4Ii22Uq6K"
   },
   "source": [
    "##Repository description \n",
    "\n",
    "I have kept this section at the top to help execute code and describe the Repository files\n",
    "\n",
    "1. **CategorizeActors.ipynb** - This file should be opened in jupyter notebook for better visualization of description. File contains all the description and code for ML and NLP. i have also added **CategorizeActors.html** file for quick walkthough of code without running the code\n",
    "\n",
    "2. **helper_functions.py** - this should be kept in same directory as .ipynb file. it has all the code for data scraping.\n",
    "\n",
    "3. **actors_data.pickle** - this file contains all the scraped data in dataframe. Data scraping code can be skipped if opted to use this file directly. it has 430 actors and/or actresses data\n"
   ]
  },
  {
   "cell_type": "markdown",
   "metadata": {
    "colab_type": "text",
    "id": "dnkcKhJZcpmC"
   },
   "source": [
    "##Problem definition."
   ]
  },
  {
   "cell_type": "markdown",
   "metadata": {
    "colab_type": "text",
    "id": "WIFhQuKdagyY"
   },
   "source": [
    "**Kindle Note the word \"actor\" is used for both men and women when referring to group.**\n",
    "\n",
    "\n",
    "Showcase use of Machine Learning and Natural Language Processing to find a way to select actors and actresses related to just one theme (Veteran , Superstars, Stars , Average, Below Average, Flop). \n",
    "Task:\n",
    "1.\tSelect a number of Hollywood actors and/or actresses. \n",
    "2.\tCollect their information on Rotten Tomatoes (https://www.rottentomatoes.com). \n",
    "3.\tScrap just enough data to show the solution \n",
    "4. Use NLP to do sentiment analysis of Movie review\n",
    "5. Summarize actor work into metrics highlighting the actors work over the years\n",
    "6. Use ML (K-Means and Highrarchical clustering) to categorize actors  as Veteran , Superstars, Stars , Average, Below Average, Flop \n",
    "\n",
    "**Assumptions and scope**\n",
    "1. Movie list scraped from actor page of Rotten tomatoes is assumed to be complete.\n",
    "\n",
    "2. Actors are not distinguished based on Gender. all actors are measured on same scale.\n",
    "\n",
    "3. Box office money value is not adjusted to reflect change in money value over the years\n",
    "\n",
    "4. scraped reviews of all the movies per actor is considered to reflect review sentiment score for each actor\n",
    "\n",
    "\n"
   ]
  },
  {
   "cell_type": "code",
   "execution_count": 0,
   "metadata": {
    "colab": {},
    "colab_type": "code",
    "id": "38NB-TLwXMV3"
   },
   "outputs": [],
   "source": [
    "##Installation of required modules\n",
    "#Uncomment and run below commands if below modules are not present\n",
    "#!pip install requests\n",
    "#!pip install html5lib\n",
    "#!pip install beautifulsoup4\n",
    "#!pip install bs4"
   ]
  },
  {
   "cell_type": "code",
   "execution_count": 6,
   "metadata": {
    "colab": {
     "base_uri": "https://localhost:8080/",
     "height": 159
    },
    "colab_type": "code",
    "id": "vdgDF33bANZ8",
    "outputId": "121fedb0-7a65-47c9-ab7d-151d4f8e8699"
   },
   "outputs": [
    {
     "name": "stderr",
     "output_type": "stream",
     "text": [
      "/usr/local/lib/python3.6/dist-packages/statsmodels/tools/_testing.py:19: FutureWarning: pandas.util.testing is deprecated. Use the functions in the public API at pandas.testing instead.\n",
      "  import pandas.util.testing as tm\n"
     ]
    },
    {
     "name": "stdout",
     "output_type": "stream",
     "text": [
      "Go to this URL in a browser: https://accounts.google.com/o/oauth2/auth?client_id=947318989803-6bn6qk8qdgf4n4g3pfee6491hc0brc4i.apps.googleusercontent.com&redirect_uri=urn%3aietf%3awg%3aoauth%3a2.0%3aoob&response_type=code&scope=email%20https%3a%2f%2fwww.googleapis.com%2fauth%2fdocs.test%20https%3a%2f%2fwww.googleapis.com%2fauth%2fdrive%20https%3a%2f%2fwww.googleapis.com%2fauth%2fdrive.photos.readonly%20https%3a%2f%2fwww.googleapis.com%2fauth%2fpeopleapi.readonly\n",
      "\n",
      "Enter your authorization code:\n",
      "··········\n",
      "Mounted at /content/drive/\n"
     ]
    }
   ],
   "source": [
    "# data loading, analysis and wrangling\n",
    "import pandas as pd  \n",
    "import numpy as np\n",
    "from bs4 import BeautifulSoup  # for website parsing and scraping (rotten tomatoes)\n",
    "import requests  \n",
    "import html5lib\n",
    "import re  \n",
    "import string\n",
    "import pickle\n",
    "import os\n",
    "from tqdm import tqdm\n",
    "\n",
    "pd.set_option('display.max_rows',500)\n",
    "pd.set_option('display.max_columns',100)\n",
    "\n",
    "# visualization\n",
    "import seaborn as sns \n",
    "import matplotlib.pyplot as plt\n",
    "\n",
    "# machine learning\n",
    "from sklearn.cluster import KMeans\n",
    "from sklearn.preprocessing import LabelBinarizer, MinMaxScaler\n",
    "import scipy.cluster.hierarchy as shc\n",
    "from sklearn.cluster import AgglomerativeClustering\n",
    "\n",
    "\n",
    "#NLP - sentiment analysis\n",
    "from textblob import TextBlob\n",
    "\n",
    "#\n",
    "from google.colab import drive\n",
    "drive.mount('/content/drive/')\n",
    "\n",
    "#Kindly select path to helper_functions.py file and .pickle file\n",
    "my_drive = \"/content/drive/My Drive\" \n",
    "\n",
    "import sys\n",
    "sys.path.insert(0, os.path.join(my_drive))\n",
    "#import user defined functions\n",
    "import helper_functions"
   ]
  },
  {
   "cell_type": "markdown",
   "metadata": {
    "colab_type": "text",
    "id": "93UZ5v47cyDP"
   },
   "source": [
    "##Acquire data - Data Scraping.\n",
    "\n",
    "Data is scraped using Beautifulsoup for each actor. Scraped data included list of movies actor worked in, Tomatometer score, Available movie review (review scraped are cropped to reduce data pull from site), year of release and box office collection\n",
    "\n",
    "Total 430 actors data and their movie reviews are scraped and categorized"
   ]
  },
  {
   "cell_type": "code",
   "execution_count": 0,
   "metadata": {
    "colab": {},
    "colab_type": "code",
    "id": "FbNEjZMplhct"
   },
   "outputs": [],
   "source": [
    "#This code can be skipped if you have actors_data.pickle file\n",
    "#File takes about 60 mins to execute\n",
    "#All the code of data scraping is in helper_functions.py file. \n",
    "#This file has been imported at the top of this notebook\n",
    "\n",
    "actor_list = ['Victor Aaron','Bruce Abbott','Bud Abbott','Christopher Abbott','Philip Abbott','Walter Abel','Zachary Abel','F. Murray Abraham','Jon Abrahams','Omid Abtahi','Kirk Acevedo','Jensen Ackles','Rodolfo Acosta','Jay Acovone','Ahmed Ahmed','Philip Ahn','Charles Aidman','Danny Aiello','Danny Aiello III','Liam Aiken','Alan Aisenberg','Franklyn Ajaye','Ayad Akhtar','Gbenga Akinnagbe','Claude Akins','Marc Alaimo','Mark Alan','Matthew Alan','Rico Alaniz','Usman Ally','Laz Alonso','Murray Alper','Bruce Altman','Jeff Altman','Bobby Alto','George Alvarez','Tyler Alvarez','John Alvin','Kirk Alyn','Terry Alexander','Phillip Alford','Mahershala Ali','Jed Allan','Stuart Allan','William Alland','Aaliyah','Angela Aames','Caroline Aaron','Bonnie Aarons','Dorothy Abbott','Diahnne Abbott','Rose Abdoo','Paula Abdul','Betty Aberlin','Isabella Acres','Amy Adams','Beverly Adams','Brooke Adams','Catlin Adams','Dorothy Adams','Neile Adams','Stella Adams','Yolanda Adams','Calpernia Addams','Nancy Addison','Celia Adler','Joanna P. Adler','Morjana Alaoui','Jessica Alba','Maria Alba','Mabel Albertson','Tessa Albertson','Patricia Alice Albrecht','Betty Amann','Erika Amato','Kimberly Amato','Lauren Ambrose','Cindy Ambuehl','Erika Anderson','Eunice Anderson','Gillian Anderson','Jacqueline Anderson','Jo Anderson','Loni Anderson','Matthew Arkin','John Arledge','Richard Arlen','Henry Armetta','Fred Armisen','George Armitage','Russell Arms','Curtis Armstrong','Louis Armstrong','Tom Babson','Michael Bacall','Dian Bachar','Charles A. Bachman','Hans Bachmann','Brian Backer','Christopher Backus','Jim Backus','David Banner','John Banner','Harry Bannister','Reggie Bannister','Chad Bannon','Jim Bannon','Steve Bannos','John Baragrey','Edward Barbanell','Blake Bashoff','George Basil','Harry Basil','Austin Basis','James Baskett','Bob Balaban','A. Michael Baldwin','Alec Baldwin','Daniel Baldwin','Dick Baldwin','Steven Bauer','Dave Bautista','Craig R. Baxley','Jack Baxley','Fonzworth Bentley','Lamont Bentley','Marc Bentley','Wes Bentley','Luke Benward','Daniel Benzali','John Beradino','Dirk Benedict','Jay Benedict','Nick Benedict','Paul Benedict','Richard Benedict','Ted Bessell','Joe Besser','Matt Besser','Stuart M. Besser','Ahmed Best','James Best','Wilson Bethel','Dan Biggers','Casey Biggs','Jason Biggs','Kevin Bigley','Theodore Bikel','Earl Billings','Ivan Bonar','Casey Bond','Rudy Bond','Steve Bond','Tommy Bond','Ward Bond','Jake Borelli','Agostino Borgato','Ernest Borgnine','Charles Borland','Christian Borle','Peter Breck','Neil Breen','Patrick Breen','Bo Burnham','Aaron Burns','Bart Burns','Max Cantor','Tap Canutt','Yakima Canutt','Giovanni Capitello','John Capodice','Peter Cambor','Edmund Cambridge','Joey Camen','Cody Cameron','Don Cheadle','Parvesh Cheena','Ken Cheeseman','Michael Chekhov','Peter Chelsom','Hank Chen','Kyle Catlett','Walter Catlett','Lane Caudell','Maxwell Caulfield','Adam Collis','Frank Collison','Booth Colman','Marcus Coloma','Scott Colomby','Mike Connors','David Conrad','Mikel Conrad','Robert Conrad','William Conrad','Hans Conried','Allen Covert','Jerome Cowan','Herbert Coward','Josh Cowdery','Jules Cowles','Matthew Cowles','Frank Craven','Wes Craven','Broderick Crawford','Chace Crawford','Mark Dacascos','Matthew Daddario','Willem Dafoe','Percy Daggs III','Steve Dahl','Dan Dailey','Bill Daily','Richard Fancy','Joe Farago','Jerry Farber','James Farentino','Antonio Fargas','Warren Finnerty','Eddie Firestone','Andrew Fiscella','Bruce M. Fischer','Patrick Fischler','Howard Freeman','K. Todd Freeman','Morgan Freeman','Yusuf Gatewood','Edi Gathegi','John Gatins','Slim Gaut','Dick Gautier','Jared Gilman','Clementine Ford','Dolores Fuller','Frances Fuller','Mary Fuller','Nikki Fuller','Penny Fuller','Melanie Fullerton','Christina Fulton','Lorraine Gary','Nicole Garza','Ana Gasteyer','Maxine Gates','Nancy Gates','Whoopi Goldberg','Annie Golden','Marta Golden','Sally Anne Golden','Heather Goldenhersh','Dagmar Godowsky','Kate Goehring','Angela Goethals','Uta Hagen','Julie Hagerty','Meredith Hagner','Nikki Hahn','Stacy Haiduk','Sumi Haru','Rainbow Harvest','Georgette Harvey','Olive Hasbrouck','Christina Hart','Dolores Hart','Dorothy Hart','Emily Hart','Hannah Hart','Marjean Holden','Rebecca Holden','Meagan Holder','Fay Holderness','Cheryl Holdridge','Kate Hudson','Rochelle Hudson','Toni Hudson','Paz de la Huerta','Amy Irving','Margaret Irving','Mary Jane Irving','Terri Irwin','Pamela Isaacs','Jane Isbell','Kathryn Ish','Lydia Jordan','Olivia Jordan','Rhoda Jordan','Jackie Joseph','Elena Kampouris','Carol Kane','Helen Kane','Marjorie Kane','Kathleen Kinmont','Melanie Kinnaman','Melinda Kinnaman','Emily Kinney','Laurene Landon','Valerie Landsburg','Abbe Lane','Louise Lasser','Louise Latham','Sanaa Lathan','Jill Latiano','Queen Latifah','Dahlia Legault','Natasha Leggero','Lillian Lehman','Anna Lehr','Hudson Leick','Barbara Leigh','Cherami Leigh','Lar Park Lincoln','Pamela Lincoln','Alyvia Alyn Lind','Bethany Anne Lind','Christina Bennett Lind','Emily Alyn Lind','Clara Mamet','Camille Mana','Melissa Manchester','Camryn Manheim','Sunita Mani','Aarti Mann','Vera Marshe','Rosita Marstini','Lynne Marta','Nita Martan','Judy Marte','Erica McDermott','Ruth McDevitt','Audra McDonald','Grace McDonald','Heather McDonald','Marie McDonald','Edie McClurg','Lorissa McComas','Heather McComb','Gladys McConnell','Donna Michelle','Janee Michelle','Julianne Michelle','Mirtha Michelle','Charis Michelsen','Cathryn Michon','Kathryn Newton','Irene Ng','Michelle Nicastro','Denise Nicholas','Barbara Nichols','Brittani Nichols','Marisol Nichols','Catherine Dale Owen','Seena Owen','Catherine Oxenberg','Dolly Parton','Lola Pashalinski','Tonye Patano','Tayva Patch','Sam Quartin','Mae Questel','Maria Quiban','Cierra Ramirez','Dania Ramirez','Marisa Ramirez','Amy Redford','Teal Redmann','Marge Redmond','Alyson Reed','Judith Ridley','Lauren Ridloff','Lisa Rieffel','Reiko Sato','Sonia Satra','Sherri Saum','Gloria Saunders','Lori Saunders','Sarah Shahi','Yara Shahidi','Sara Shane','Colleen Shannon','Stella Stevens','Cynthia Stevenson','Margot Stevenson','Alana Stewart','Rita Taggart','Daisy Tahan','Miiko Taka','Sophia Takal','Meg Thalken','Sophie Thatcher','Phyllis Thaxter','Brynn Thayer','Lorna Thayer','Maria Thayer','Carrie Underwood','Sara Jean Underwood','Sheryl Underwood','Gabrielle Union','Virginia Vale','Vola Vale','Nancy Valen','Cindy Valentine','Kristen Vigard','Gillian Vigman','Tracy Vilar','Nancy Walters','Susan Walters','Peggy Walton-Walker','Gladys Walton','Lisa Waltz','Jennifer Westfeldt','Helen Westley','Nydia Westman','Celia Weston','Jona Xiao','Kathleen York','Morgan York','Rachel York','Tina Yothers','America Young','Audrey Young','Kyra Zagorsky','Roxana Zal','Sasheer Zamata','Lisa Zane','Carmen Zapata','Vera Zorina','Emilia Zoryan','Charlotte Zucker','Cozi Zuehlsdorff','Daphne Zuniga']\n",
    "cols = ['ACTOR','TOTAL_MOVIES','MOVIES_NOT_SCORED','RATING','BOX_OFFICE','REVIEW_SENTIMENT','MOVIES_PER_YEAR','START_YEAR','END_YEAR']\n",
    "actor_attr = []\n",
    "\n",
    "for actor in actor_list:\n",
    "  if helper_functions.get_actor_movies(actor).shape[0]!=0:\n",
    "    actor_attr.append(helper_functions.get_actor_scores(actor))\n",
    "\n",
    "actors_df=pd.DataFrame(actor_attr,columns=cols)\n",
    "#actors_df.to_pickle(os.path.join(my_drive,'actors_data.pickle'))\n"
   ]
  },
  {
   "cell_type": "markdown",
   "metadata": {
    "colab_type": "text",
    "id": "I2uyZPL5FRkH"
   },
   "source": [
    "##Load data from Pickle file\n",
    "\n",
    "If. pickle file is there, data scraping step can be skipped. Input data frame consists of below columns. kindly note each entry in Dataframe is specific to an actor.\n",
    "\n",
    "['ACTOR','TOTAL_MOVIES','MOVIES_NOT_SCORED','RATING','BOX_OFFICE','REVIEW_SENTIMENT','MOVIES_PER_YEAR','START_YEAR','END_YEAR']\n",
    "\n",
    "###Column description:\n",
    "\n",
    "**ACTOR** - actor name\n",
    "\n",
    "**TOTAL_MOVIES** - Number of movies actor was part of\n",
    "\n",
    "**MOVIES_NOT_SCORED** - Number of movies not having \n",
    "Tomatometer score\n",
    "\n",
    "**RATING** - Average Tomatometer score for all actor movies\n",
    "\n",
    "**BOX_OFFICE** - total box office collection for movies acted in by actor\n",
    "\n",
    "**REVIEW_SENTIMENT** - This is an interesting feature. Here, we have used calculated sentiment polarity for each review and averaged it to get final polarity of all the review for a specific actor. sentiment polarity value ranges between [-1, 1], -1 being negative review, 0 being neutral review and 1 being positive review. This feature gives overall sense of review earned by specific actor's movies\n",
    "\n",
    "**MOVIES_PER_YEAR** - Number of movies actor worked \n",
    "\n",
    "**START_YEAR & END_YEAR** - start year and end year of movie actor worked in\n",
    "\n",
    "let’s have look of few rows of data\n"
   ]
  },
  {
   "cell_type": "code",
   "execution_count": 49,
   "metadata": {
    "colab": {
     "base_uri": "https://localhost:8080/",
     "height": 291
    },
    "colab_type": "code",
    "id": "6PBFgbudq0Vw",
    "outputId": "bcb67fbd-39f0-4071-bf37-3951dd121e9d"
   },
   "outputs": [
    {
     "data": {
      "text/html": [
       "<div>\n",
       "<style scoped>\n",
       "    .dataframe tbody tr th:only-of-type {\n",
       "        vertical-align: middle;\n",
       "    }\n",
       "\n",
       "    .dataframe tbody tr th {\n",
       "        vertical-align: top;\n",
       "    }\n",
       "\n",
       "    .dataframe thead th {\n",
       "        text-align: right;\n",
       "    }\n",
       "</style>\n",
       "<table border=\"1\" class=\"dataframe\">\n",
       "  <thead>\n",
       "    <tr style=\"text-align: right;\">\n",
       "      <th></th>\n",
       "      <th>ACTOR</th>\n",
       "      <th>TOTAL_MOVIES</th>\n",
       "      <th>MOVIES_NOT_SCORED</th>\n",
       "      <th>RATING</th>\n",
       "      <th>BOX_OFFICE</th>\n",
       "      <th>REVIEW_SENTIMENT</th>\n",
       "      <th>MOVIES_PER_YEAR</th>\n",
       "      <th>START_YEAR</th>\n",
       "      <th>END_YEAR</th>\n",
       "    </tr>\n",
       "  </thead>\n",
       "  <tbody>\n",
       "    <tr>\n",
       "      <th>0</th>\n",
       "      <td>Victor Aaron</td>\n",
       "      <td>4</td>\n",
       "      <td>0</td>\n",
       "      <td>38.25</td>\n",
       "      <td>0.0</td>\n",
       "      <td>0.01</td>\n",
       "      <td>0.250000</td>\n",
       "      <td>1993</td>\n",
       "      <td>2008</td>\n",
       "    </tr>\n",
       "    <tr>\n",
       "      <th>1</th>\n",
       "      <td>Bruce Abbott</td>\n",
       "      <td>18</td>\n",
       "      <td>10</td>\n",
       "      <td>43.12</td>\n",
       "      <td>0.0</td>\n",
       "      <td>0.09</td>\n",
       "      <td>0.692308</td>\n",
       "      <td>1982</td>\n",
       "      <td>2007</td>\n",
       "    </tr>\n",
       "    <tr>\n",
       "      <th>2</th>\n",
       "      <td>Bud Abbott</td>\n",
       "      <td>43</td>\n",
       "      <td>33</td>\n",
       "      <td>61.10</td>\n",
       "      <td>0.0</td>\n",
       "      <td>0.16</td>\n",
       "      <td>0.605634</td>\n",
       "      <td>1932</td>\n",
       "      <td>2002</td>\n",
       "    </tr>\n",
       "    <tr>\n",
       "      <th>3</th>\n",
       "      <td>Christopher Abbott</td>\n",
       "      <td>18</td>\n",
       "      <td>3</td>\n",
       "      <td>74.00</td>\n",
       "      <td>35693100.0</td>\n",
       "      <td>0.14</td>\n",
       "      <td>1.000000</td>\n",
       "      <td>2003</td>\n",
       "      <td>2020</td>\n",
       "    </tr>\n",
       "    <tr>\n",
       "      <th>4</th>\n",
       "      <td>Philip Abbott</td>\n",
       "      <td>11</td>\n",
       "      <td>9</td>\n",
       "      <td>48.50</td>\n",
       "      <td>0.0</td>\n",
       "      <td>0.22</td>\n",
       "      <td>0.255814</td>\n",
       "      <td>1957</td>\n",
       "      <td>1999</td>\n",
       "    </tr>\n",
       "  </tbody>\n",
       "</table>\n",
       "</div>"
      ],
      "text/plain": [
       "                ACTOR  TOTAL_MOVIES  MOVIES_NOT_SCORED  RATING  BOX_OFFICE  \\\n",
       "0        Victor Aaron             4                  0   38.25         0.0   \n",
       "1        Bruce Abbott            18                 10   43.12         0.0   \n",
       "2          Bud Abbott            43                 33   61.10         0.0   \n",
       "3  Christopher Abbott            18                  3   74.00  35693100.0   \n",
       "4       Philip Abbott            11                  9   48.50         0.0   \n",
       "\n",
       "   REVIEW_SENTIMENT  MOVIES_PER_YEAR  START_YEAR  END_YEAR  \n",
       "0              0.01         0.250000        1993      2008  \n",
       "1              0.09         0.692308        1982      2007  \n",
       "2              0.16         0.605634        1932      2002  \n",
       "3              0.14         1.000000        2003      2020  \n",
       "4              0.22         0.255814        1957      1999  "
      ]
     },
     "execution_count": 49,
     "metadata": {
      "tags": []
     },
     "output_type": "execute_result"
    }
   ],
   "source": [
    "#Load Actor data from pickle file\n",
    "data = pd.read_pickle(os.path.join(my_drive,'actors_data.pickle'))\n",
    "actors_df = data \n",
    "actors_df['BOX_OFFICE']=actors_df['BOX_OFFICE'].replace(['NA'],'0')\n",
    "data['REVIEW_SENTIMENT']=data['REVIEW_SENTIMENT'].replace(['NA'],'0')\n",
    "data['REVIEW_SENTIMENT']=data['REVIEW_SENTIMENT'].astype(np.float)\n",
    "\n",
    "#Preprocess data\n",
    "actors_df=data.drop(columns='ACTOR')\n",
    "data.head()"
   ]
  },
  {
   "cell_type": "markdown",
   "metadata": {
    "colab_type": "text",
    "id": "cE-famUdKzh0"
   },
   "source": [
    "Data has total 8 features with 6 continuous and 3 categorical.\n",
    "\n",
    "continuous features - ['TOTAL_MOVIES','MOVIES_NOT_SCORED','RATING','BOX_OFFICE','REVIEW_SENTIMENT','MOVIES_PER_YEAR']\n",
    "\n",
    "categorical features - ['ACTOR',START_YEAR','END_YEAR']"
   ]
  },
  {
   "cell_type": "code",
   "execution_count": 50,
   "metadata": {
    "colab": {
     "base_uri": "https://localhost:8080/",
     "height": 295
    },
    "colab_type": "code",
    "id": "PpiSVJX4g6N4",
    "outputId": "80c07081-cddf-413a-b265-029b3b5af38b"
   },
   "outputs": [
    {
     "name": "stdout",
     "output_type": "stream",
     "text": [
      "<class 'pandas.core.frame.DataFrame'>\n",
      "Int64Index: 430 entries, 0 to 355\n",
      "Data columns (total 9 columns):\n",
      " #   Column             Non-Null Count  Dtype  \n",
      "---  ------             --------------  -----  \n",
      " 0   ACTOR              430 non-null    object \n",
      " 1   TOTAL_MOVIES       430 non-null    int64  \n",
      " 2   MOVIES_NOT_SCORED  430 non-null    int64  \n",
      " 3   RATING             430 non-null    float64\n",
      " 4   BOX_OFFICE         430 non-null    float64\n",
      " 5   REVIEW_SENTIMENT   430 non-null    float64\n",
      " 6   MOVIES_PER_YEAR    430 non-null    float64\n",
      " 7   START_YEAR         430 non-null    int64  \n",
      " 8   END_YEAR           430 non-null    int64  \n",
      "dtypes: float64(4), int64(4), object(1)\n",
      "memory usage: 33.6+ KB\n"
     ]
    }
   ],
   "source": [
    "data.info()"
   ]
  },
  {
   "cell_type": "markdown",
   "metadata": {
    "colab_type": "text",
    "id": "tPZd9v_RLpyb"
   },
   "source": [
    "##Normalization and One-Hot encoding of feature variables"
   ]
  },
  {
   "cell_type": "code",
   "execution_count": 0,
   "metadata": {
    "colab": {},
    "colab_type": "code",
    "id": "pZqQZKpQv9T_"
   },
   "outputs": [],
   "source": [
    "# Normalize and One hot code Actor data\n",
    "continuous = ['TOTAL_MOVIES','MOVIES_NOT_SCORED','RATING','BOX_OFFICE','REVIEW_SENTIMENT','MOVIES_PER_YEAR']\n",
    "cs = MinMaxScaler()\n",
    "continuous_features = cs.fit_transform(actors_df[continuous])\n",
    "start_yr_binarizer = LabelBinarizer().fit(actors_df[\"START_YEAR\"])\n",
    "end_yr_binarizer = LabelBinarizer().fit(actors_df[\"END_YEAR\"])\n",
    "\n",
    "start_yr = start_yr_binarizer.transform(actors_df[\"START_YEAR\"])\n",
    "end_yr = end_yr_binarizer.transform(actors_df[\"END_YEAR\"])\n",
    "\n",
    "X = np.hstack([start_yr, end_yr, continuous_features])"
   ]
  },
  {
   "cell_type": "markdown",
   "metadata": {
    "colab_type": "text",
    "id": "fWvyNfTmL2wp"
   },
   "source": [
    "##Unsupervised Learning using K-Means and Hierarchical clustering\n",
    "\n",
    "From the Elbow curve it is evident that data has 6 visible clusters, lets use hirarchical clustering and visualize Dendogram of the clusters"
   ]
  },
  {
   "cell_type": "code",
   "execution_count": 52,
   "metadata": {
    "colab": {
     "base_uri": "https://localhost:8080/",
     "height": 295
    },
    "colab_type": "code",
    "id": "zViWSOpFwAcI",
    "outputId": "6cf04d9c-1b0a-4238-b096-4fd505eb115d"
   },
   "outputs": [
    {
     "data": {
      "image/png": "[encoded data removed]",
      "text/plain": [
       "<Figure size 432x288 with 1 Axes>"
      ]
     },
     "metadata": {
      "needs_background": "light",
      "tags": []
     },
     "output_type": "display_data"
    }
   ],
   "source": [
    "#Perform K-Means clustering to determine Clusters\n",
    "wcss = []\n",
    "for i in range(1, 11):\n",
    "    kmeans = KMeans(n_clusters=i, init='k-means++', max_iter=300, n_init=10, random_state=0)\n",
    "    kmeans.fit(X)\n",
    "    wcss.append(kmeans.inertia_)\n",
    "plt.plot(range(1, 11), wcss)\n",
    "plt.title('Elbow Method')\n",
    "plt.xlabel('Number of clusters')\n",
    "plt.ylabel('WCSS')\n",
    "plt.show()"
   ]
  },
  {
   "cell_type": "markdown",
   "metadata": {
    "colab_type": "text",
    "id": "-1CQm7n-NRYC"
   },
   "source": [
    "Dendogram also suggests 6 visible clusters. lets see what data each cluster have and accordingly name the Theme"
   ]
  },
  {
   "cell_type": "code",
   "execution_count": 53,
   "metadata": {
    "colab": {
     "base_uri": "https://localhost:8080/",
     "height": 444
    },
    "colab_type": "code",
    "id": "weQm3BZt6UeE",
    "outputId": "b505a0d1-bced-4979-d8d1-4f24fb8a9d47"
   },
   "outputs": [
    {
     "data": {
      "image/png": "[encoded data removed]",
      "text/plain": [
       "<Figure size 720x504 with 1 Axes>"
      ]
     },
     "metadata": {
      "needs_background": "light",
      "tags": []
     },
     "output_type": "display_data"
    }
   ],
   "source": [
    "#It can be confirmed from Dendogram as well we have 6 clusters\n",
    "plt.figure(figsize=(10, 7))\n",
    "plt.title(\"Customer Dendograms\")\n",
    "dend = shc.dendrogram(shc.linkage(X, method='ward'))"
   ]
  },
  {
   "cell_type": "markdown",
   "metadata": {
    "colab_type": "text",
    "id": "-3qVTurNUdCa"
   },
   "source": [
    "##Summary and categorization"
   ]
  },
  {
   "cell_type": "code",
   "execution_count": 55,
   "metadata": {
    "colab": {
     "base_uri": "https://localhost:8080/",
     "height": 283
    },
    "colab_type": "code",
    "id": "wDwEKcvI7MaX",
    "outputId": "cf2d00f7-9cec-4f6c-91ab-1b346dcae220"
   },
   "outputs": [
    {
     "data": {
      "text/html": [
       "<div>\n",
       "<style scoped>\n",
       "    .dataframe tbody tr th:only-of-type {\n",
       "        vertical-align: middle;\n",
       "    }\n",
       "\n",
       "    .dataframe tbody tr th {\n",
       "        vertical-align: top;\n",
       "    }\n",
       "\n",
       "    .dataframe thead th {\n",
       "        text-align: right;\n",
       "    }\n",
       "</style>\n",
       "<table border=\"1\" class=\"dataframe\">\n",
       "  <thead>\n",
       "    <tr style=\"text-align: right;\">\n",
       "      <th></th>\n",
       "      <th>TOTAL_MOVIES</th>\n",
       "      <th>MOVIES_NOT_SCORED</th>\n",
       "      <th>RATING</th>\n",
       "      <th>BOX_OFFICE</th>\n",
       "      <th>REVIEW_SENTIMENT</th>\n",
       "      <th>MOVIES_PER_YEAR</th>\n",
       "      <th>START_YEAR</th>\n",
       "      <th>END_YEAR</th>\n",
       "    </tr>\n",
       "    <tr>\n",
       "      <th>THEME</th>\n",
       "      <th></th>\n",
       "      <th></th>\n",
       "      <th></th>\n",
       "      <th></th>\n",
       "      <th></th>\n",
       "      <th></th>\n",
       "      <th></th>\n",
       "      <th></th>\n",
       "    </tr>\n",
       "  </thead>\n",
       "  <tbody>\n",
       "    <tr>\n",
       "      <th>0</th>\n",
       "      <td>11.753333</td>\n",
       "      <td>6.033333</td>\n",
       "      <td>36.414667</td>\n",
       "      <td>9.577217e+07</td>\n",
       "      <td>0.092467</td>\n",
       "      <td>0.747645</td>\n",
       "      <td>1986.733333</td>\n",
       "      <td>2003.813333</td>\n",
       "    </tr>\n",
       "    <tr>\n",
       "      <th>1</th>\n",
       "      <td>13.931034</td>\n",
       "      <td>6.655172</td>\n",
       "      <td>44.913448</td>\n",
       "      <td>1.137749e+08</td>\n",
       "      <td>0.101034</td>\n",
       "      <td>0.777677</td>\n",
       "      <td>1993.482759</td>\n",
       "      <td>2013.827586</td>\n",
       "    </tr>\n",
       "    <tr>\n",
       "      <th>2</th>\n",
       "      <td>21.813559</td>\n",
       "      <td>14.604520</td>\n",
       "      <td>62.762034</td>\n",
       "      <td>6.349293e+07</td>\n",
       "      <td>0.140056</td>\n",
       "      <td>0.757562</td>\n",
       "      <td>1960.564972</td>\n",
       "      <td>1989.225989</td>\n",
       "    </tr>\n",
       "    <tr>\n",
       "      <th>3</th>\n",
       "      <td>27.125000</td>\n",
       "      <td>12.875000</td>\n",
       "      <td>47.862500</td>\n",
       "      <td>2.426808e+08</td>\n",
       "      <td>0.112187</td>\n",
       "      <td>0.999057</td>\n",
       "      <td>1992.343750</td>\n",
       "      <td>2017.781250</td>\n",
       "    </tr>\n",
       "    <tr>\n",
       "      <th>4</th>\n",
       "      <td>20.684211</td>\n",
       "      <td>7.473684</td>\n",
       "      <td>48.612105</td>\n",
       "      <td>2.518396e+08</td>\n",
       "      <td>0.093158</td>\n",
       "      <td>0.863577</td>\n",
       "      <td>1992.368421</td>\n",
       "      <td>2018.000000</td>\n",
       "    </tr>\n",
       "    <tr>\n",
       "      <th>5</th>\n",
       "      <td>34.217391</td>\n",
       "      <td>14.173913</td>\n",
       "      <td>49.133043</td>\n",
       "      <td>6.496093e+08</td>\n",
       "      <td>0.112609</td>\n",
       "      <td>1.402976</td>\n",
       "      <td>1999.913043</td>\n",
       "      <td>2020.000000</td>\n",
       "    </tr>\n",
       "  </tbody>\n",
       "</table>\n",
       "</div>"
      ],
      "text/plain": [
       "       TOTAL_MOVIES  MOVIES_NOT_SCORED     RATING    BOX_OFFICE  \\\n",
       "THEME                                                             \n",
       "0         11.753333           6.033333  36.414667  9.577217e+07   \n",
       "1         13.931034           6.655172  44.913448  1.137749e+08   \n",
       "2         21.813559          14.604520  62.762034  6.349293e+07   \n",
       "3         27.125000          12.875000  47.862500  2.426808e+08   \n",
       "4         20.684211           7.473684  48.612105  2.518396e+08   \n",
       "5         34.217391          14.173913  49.133043  6.496093e+08   \n",
       "\n",
       "       REVIEW_SENTIMENT  MOVIES_PER_YEAR   START_YEAR     END_YEAR  \n",
       "THEME                                                               \n",
       "0              0.092467         0.747645  1986.733333  2003.813333  \n",
       "1              0.101034         0.777677  1993.482759  2013.827586  \n",
       "2              0.140056         0.757562  1960.564972  1989.225989  \n",
       "3              0.112187         0.999057  1992.343750  2017.781250  \n",
       "4              0.093158         0.863577  1992.368421  2018.000000  \n",
       "5              0.112609         1.402976  1999.913043  2020.000000  "
      ]
     },
     "execution_count": 55,
     "metadata": {
      "tags": []
     },
     "output_type": "execute_result"
    }
   ],
   "source": [
    "#Lets create Cluster and tag actor data\n",
    "cluster = AgglomerativeClustering(n_clusters=6, affinity='euclidean', linkage='ward')\n",
    "data['THEME'] = cluster.fit_predict(X)\n",
    "data.groupby('THEME').mean()\n",
    "#data.groupby(['THEME'])['START_YEAR'].agg([('Min' , 'min'), ('Max', 'max')])"
   ]
  },
  {
   "cell_type": "markdown",
   "metadata": {
    "colab_type": "text",
    "id": "JDSHcBPNOHsV"
   },
   "source": [
    "**SUMMARY**\n",
    "From the data, below are the observations about the data categories\n",
    "\n",
    "**2 - Veteran** - Category 2 has actors between worked in movies roughly during 1960 - 1989. Average number of movies worked in are 21 but it can be observed that they were box office hits. This group certainly seems to be most expericed and have worked in movies with good review sentiment score and highest rating. They have acted in less number of movies per year (0.75 per year) given the generatiion they worked in. The number of releases in that decades were less compared to later decades of 20th century.\n",
    "\n",
    "**5 - Superstars** - category 5 are superstarts because they have highest Box office collection and  average number of movies with good rating and  sentiment review score. They also get highest movies per year about 1.4 per year.\n",
    "\n",
    "**0 - Flop** - they have worked in least number of movies with lowest rating and get less movies per year\n",
    "\n",
    "**3- stars** - We have categorized them as stars because even though they have worked on less number of flims than superstar, their movie average ratings are good and they get almost 1 movie per year.\n",
    " \n",
    "**4 - Average** - Category 4 is average because they have worked in good budget movies with decent rating and get about 0.86 movies per year\n",
    "\n",
    "**1 - Below Average** - category 1 is below average as they worked in less number of movies with below average ratings"
   ]
  },
  {
   "cell_type": "markdown",
   "metadata": {
    "colab_type": "text",
    "id": "EcR2S7gwrBqy"
   },
   "source": [
    "##Further improvements\n",
    "\n",
    "1. Data scraping can be improved to scrap all the information for each actor. Features like genre, audience score, audience rating, user rating and many more can be used to create categories with stronger boundaries.\n",
    "\n",
    "2. Prebuilt word embedding Neural network models viz. the Word2vec algorithm (https://code.google.com/\n",
    "archive/p/word2vec), developed by Tomas Mikolov at Google in 2013 and Global Vectors for Word Representation (GloVe, https://nlp.stanford\n",
    ".edu/projects/glove), which was developed by Stanford researchers in 2014 can be used to generate our own sentiment analysis model. Since Deep learning its a supervised, we need to have already classified data on sentiments."
   ]
  }
 ],
 "metadata": {
  "colab": {
   "collapsed_sections": [],
   "name": "CategorizeActors.ipynb",
   "provenance": [],
   "toc_visible": true
  },
  "kernelspec": {
   "display_name": "Python 3",
   "language": "python",
   "name": "python3"
  },
  "language_info": {
   "codemirror_mode": {
    "name": "ipython",
    "version": 3
   },
   "file_extension": ".py",
   "mimetype": "text/x-python",
   "name": "python",
   "nbconvert_exporter": "python",
   "pygments_lexer": "ipython3",
   "version": "3.7.3"
  }
 },
 "nbformat": 4,
 "nbformat_minor": 1
}
